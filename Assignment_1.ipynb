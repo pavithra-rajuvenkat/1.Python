{
 "cells": [
  {
   "cell_type": "code",
   "execution_count": 1,
   "id": "ea1f8295-a7d2-4976-89ad-7d1a88d38890",
   "metadata": {},
   "outputs": [
    {
     "name": "stdout",
     "output_type": "stream",
     "text": [
      "Welcome to Assignment-1\n"
     ]
    }
   ],
   "source": [
    "print(\"Welcome to Assignment-1\")"
   ]
  },
  {
   "cell_type": "code",
   "execution_count": 2,
   "id": "a1638206-cd84-492e-99b5-dd3558bcdd4e",
   "metadata": {},
   "outputs": [
    {
     "name": "stdout",
     "output_type": "stream",
     "text": [
      "Num1 = 10\n",
      "Num2 = 30\n",
      "Add = 40\n"
     ]
    }
   ],
   "source": [
    "Num1 = 10\n",
    "print(\"Num1 =\",Num1)\n",
    "Num2 = 30\n",
    "print(\"Num2 =\",Num2)\n",
    "Add = Num1+Num2\n",
    "print(\"Add =\",Add)"
   ]
  },
  {
   "cell_type": "code",
   "execution_count": 12,
   "id": "6fde1e38-6087-42a8-bb6c-4d931ac3d787",
   "metadata": {},
   "outputs": [
    {
     "name": "stdin",
     "output_type": "stream",
     "text": [
      "Enter the BMI value 45\n"
     ]
    },
    {
     "name": "stdout",
     "output_type": "stream",
     "text": [
      "Extremely Obese\n"
     ]
    }
   ],
   "source": [
    "#Body Mass Index\n",
    "BMI =float(input(\"Enter the BMI value\"))\n",
    "if(BMI<18.5):\n",
    "    print(\"Underweight\")\n",
    "elif(BMI<25):\n",
    "    print(\"Normal\")\n",
    "elif(BMI<30):\n",
    "    print(\"Overweight\")\n",
    "elif(BMI<35):\n",
    "    print(\"Obese\")\n",
    "else:\n",
    "    print(\"Extremely Obese\")"
   ]
  },
  {
   "cell_type": "code",
   "execution_count": null,
   "id": "bef7acad-fc4a-4411-a469-209ef90639fd",
   "metadata": {},
   "outputs": [],
   "source": []
  }
 ],
 "metadata": {
  "kernelspec": {
   "display_name": "Python 3 (ipykernel)",
   "language": "python",
   "name": "python3"
  },
  "language_info": {
   "codemirror_mode": {
    "name": "ipython",
    "version": 3
   },
   "file_extension": ".py",
   "mimetype": "text/x-python",
   "name": "python",
   "nbconvert_exporter": "python",
   "pygments_lexer": "ipython3",
   "version": "3.12.7"
  }
 },
 "nbformat": 4,
 "nbformat_minor": 5
}
