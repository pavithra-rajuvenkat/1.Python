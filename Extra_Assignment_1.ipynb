{
 "cells": [
  {
   "cell_type": "code",
   "execution_count": 9,
   "id": "6755c3b9-ac3e-4f6f-bafe-77d7d88cd63f",
   "metadata": {},
   "outputs": [
    {
     "name": "stdout",
     "output_type": "stream",
     "text": [
      "HOPE AI\n"
     ]
    }
   ],
   "source": [
    "#print statement\n",
    "print(\"HOPE AI\")"
   ]
  },
  {
   "cell_type": "code",
   "execution_count": 11,
   "id": "0e37bc01-46e7-46af-a91b-9460c9304e29",
   "metadata": {},
   "outputs": [
    {
     "name": "stdin",
     "output_type": "stream",
     "text": [
      "Enter your institute name? : HOPE AI\n"
     ]
    }
   ],
   "source": [
    "#buy input\n",
    "Institute_Name = input(\"Enter your institute name? :\")\n"
   ]
  },
  {
   "cell_type": "code",
   "execution_count": 12,
   "id": "7a4b1151-c9c1-4931-8426-afe0cbd8e1a2",
   "metadata": {},
   "outputs": [
    {
     "name": "stdin",
     "output_type": "stream",
     "text": [
      "Enter your name: RAM\n",
      "Enter your age: 15\n",
      "Enter your school name: Guru school\n",
      "Enter your degree: B.E CSE\n"
     ]
    }
   ],
   "source": [
    "#buy inputs\n",
    "name = input(\"Enter your name:\")\n",
    "age = int(input(\"Enter your age:\"))\n",
    "school = input(\"Enter your school name:\")\n",
    "degree = input(\"Enter your degree:\")\n",
    "          \n",
    "          "
   ]
  },
  {
   "cell_type": "code",
   "execution_count": 14,
   "id": "6f3de048-6b3f-4484-b82f-3af31398f763",
   "metadata": {},
   "outputs": [
    {
     "name": "stdout",
     "output_type": "stream",
     "text": [
      "a =  43\n",
      "b =  34\n",
      "Sub =  9\n"
     ]
    }
   ],
   "source": [
    "#Subtraction\n",
    "a= 43\n",
    "print(\"a = \",a)\n",
    "b= 34\n",
    "print(\"b = \",b)\n",
    "Sub = a-b\n",
    "print(\"Sub = \",Sub)"
   ]
  },
  {
   "cell_type": "code",
   "execution_count": 15,
   "id": "03909e79-234e-4e70-ae1f-7265ad4d0a9f",
   "metadata": {},
   "outputs": [
    {
     "name": "stdout",
     "output_type": "stream",
     "text": [
      "a =  63\n",
      "b =  97\n",
      "Mul =  6111\n"
     ]
    }
   ],
   "source": [
    "#Multiplication\n",
    "a= 63\n",
    "print(\"a = \",a)\n",
    "b= 97\n",
    "print(\"b = \",b)\n",
    "Mul = a*b\n",
    "print(\"Mul = \",Mul)\n"
   ]
  },
  {
   "cell_type": "code",
   "execution_count": 16,
   "id": "81310e96-cff6-458a-9164-0b32add6c8f1",
   "metadata": {},
   "outputs": [
    {
     "name": "stdout",
     "output_type": "stream",
     "text": [
      "a =  76\n",
      "b =  31\n",
      "Div =  2.4516129032258065\n"
     ]
    }
   ],
   "source": [
    "#Division\n",
    "a= 76\n",
    "print(\"a = \",a)\n",
    "b= 31\n",
    "print(\"b = \",b)\n",
    "Div = a/b\n",
    "print(\"Div = \",Div)"
   ]
  },
  {
   "cell_type": "code",
   "execution_count": 17,
   "id": "2b1379a3-3667-4930-8782-8ff543c32e3e",
   "metadata": {},
   "outputs": [
    {
     "name": "stdout",
     "output_type": "stream",
     "text": [
      "a =  76\n",
      "b =  31\n",
      "Floor Div =  2\n"
     ]
    }
   ],
   "source": [
    "#Floor division\n",
    "a= 76\n",
    "print(\"a = \",a)\n",
    "b= 31\n",
    "print(\"b = \",b)\n",
    "Floor_Div = a//b\n",
    "print(\"Floor Div = \",Floor_Div)"
   ]
  },
  {
   "cell_type": "code",
   "execution_count": 18,
   "id": "a9d66142-2b97-4122-b42e-a176980c8262",
   "metadata": {},
   "outputs": [
    {
     "name": "stdout",
     "output_type": "stream",
     "text": [
      "a =  43\n",
      "b =  34\n",
      "Add =  77\n"
     ]
    }
   ],
   "source": [
    "#Addition\n",
    "a= 43\n",
    "print(\"a = \",a)\n",
    "b= 34\n",
    "print(\"b = \",b)\n",
    "Add = a+b\n",
    "print(\"Add = \",Add)"
   ]
  },
  {
   "cell_type": "code",
   "execution_count": 19,
   "id": "be4d1a7b-e075-4fca-894d-4b095d60dab7",
   "metadata": {},
   "outputs": [
    {
     "name": "stdout",
     "output_type": "stream",
     "text": [
      "a =  76\n",
      "b =  31\n",
      "Modulo =  14\n"
     ]
    }
   ],
   "source": [
    "#Modulo\n",
    "a= 76\n",
    "print(\"a = \",a)\n",
    "b= 31\n",
    "print(\"b = \",b)\n",
    "Modulo = a%b\n",
    "print(\"Modulo = \",Modulo)\n"
   ]
  },
  {
   "cell_type": "code",
   "execution_count": 20,
   "id": "e5b6969f-3b56-4326-96a5-d16edca4c162",
   "metadata": {},
   "outputs": [
    {
     "name": "stdout",
     "output_type": "stream",
     "text": [
      "a =  4\n",
      "b =  4\n",
      "Power =  256\n"
     ]
    }
   ],
   "source": [
    "#Power\n",
    "a= 4\n",
    "print(\"a = \",a)\n",
    "b= 4\n",
    "print(\"b = \",b)\n",
    "Power = a**b\n",
    "print(\"Power = \",Power)\n",
    "\n"
   ]
  },
  {
   "cell_type": "code",
   "execution_count": null,
   "id": "9549fea4-0515-4b66-ad9c-99f9a7a61a9f",
   "metadata": {},
   "outputs": [],
   "source": []
  }
 ],
 "metadata": {
  "kernelspec": {
   "display_name": "Python 3 (ipykernel)",
   "language": "python",
   "name": "python3"
  },
  "language_info": {
   "codemirror_mode": {
    "name": "ipython",
    "version": 3
   },
   "file_extension": ".py",
   "mimetype": "text/x-python",
   "name": "python",
   "nbconvert_exporter": "python",
   "pygments_lexer": "ipython3",
   "version": "3.12.7"
  }
 },
 "nbformat": 4,
 "nbformat_minor": 5
}
