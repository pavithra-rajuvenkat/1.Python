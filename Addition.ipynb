{
 "cells": [
  {
   "cell_type": "code",
   "execution_count": 1,
   "id": "e3a101e1-5d9a-4231-9d66-5ee379ca884b",
   "metadata": {},
   "outputs": [
    {
     "name": "stdout",
     "output_type": "stream",
     "text": [
      "The addition of two numbers\n",
      "The number 1: 30\n",
      "The number 2: 72\n",
      "The answer : 102\n"
     ]
    }
   ],
   "source": [
    "NUM1 = 30\n",
    "NUM2 = 72\n",
    "ADD = NUM1+NUM2\n",
    "print(\"The addition of two numbers\")\n",
    "print(\"The number 1:\",NUM1)\n",
    "print(\"The number 2:\",NUM2)\n",
    "print(\"The answer :\",ADD)"
   ]
  },
  {
   "cell_type": "code",
   "execution_count": 2,
   "id": "2721246e-dda4-49ea-b056-c0fefd4c2f4b",
   "metadata": {},
   "outputs": [
    {
     "name": "stdout",
     "output_type": "stream",
     "text": [
      "User input addition\n"
     ]
    }
   ],
   "source": [
    "print(\"User input addition\")"
   ]
  },
  {
   "cell_type": "code",
   "execution_count": 6,
   "id": "abcb9e5d-caf5-4257-a8c9-52b4deda37c5",
   "metadata": {},
   "outputs": [
    {
     "name": "stdin",
     "output_type": "stream",
     "text": [
      "Enter the value Num1: 74\n",
      "Enter the valur Num2: 12\n"
     ]
    },
    {
     "name": "stdout",
     "output_type": "stream",
     "text": [
      "The answer : 86\n"
     ]
    }
   ],
   "source": [
    "Num1= int(input(\"Enter the value Num1:\"))\n",
    "Num2 = int (input(\"Enter the valur Num2:\"))\n",
    "add = Num1+Num2\n",
    "print(\"The answer :\",add)"
   ]
  },
  {
   "cell_type": "code",
   "execution_count": null,
   "id": "ee3d4a4f-ec5a-4f17-a3dc-6b4ff9c086cc",
   "metadata": {},
   "outputs": [],
   "source": []
  }
 ],
 "metadata": {
  "kernelspec": {
   "display_name": "Python 3 (ipykernel)",
   "language": "python",
   "name": "python3"
  },
  "language_info": {
   "codemirror_mode": {
    "name": "ipython",
    "version": 3
   },
   "file_extension": ".py",
   "mimetype": "text/x-python",
   "name": "python",
   "nbconvert_exporter": "python",
   "pygments_lexer": "ipython3",
   "version": "3.12.7"
  }
 },
 "nbformat": 4,
 "nbformat_minor": 5
}
