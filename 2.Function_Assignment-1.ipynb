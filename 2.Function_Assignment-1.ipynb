{
 "cells": [
  {
   "cell_type": "code",
   "execution_count": 11,
   "id": "ed4bc5a9-2d92-46cd-a124-2dc6e9489e4a",
   "metadata": {},
   "outputs": [],
   "source": [
    "def Subfields():\n",
    "    print(\"Sub-fields in AI are:\")\n",
    "    print(\"Machine Learning\\nNeural Networks\\nVision\\nRobotics\\nSpeech Processing\\nNatural Language Processing\")"
   ]
  },
  {
   "cell_type": "code",
   "execution_count": 12,
   "id": "66b864d3-6fcb-4d45-9ad9-3d6c271e813b",
   "metadata": {},
   "outputs": [
    {
     "name": "stdout",
     "output_type": "stream",
     "text": [
      "Sub-fields in AI are:\n",
      "Machine Learning\n",
      "Neural Networks\n",
      "Vision\n",
      "Robotics\n",
      "Speech Processing\n",
      "Natural Language Processing\n"
     ]
    }
   ],
   "source": [
    "Subfields()"
   ]
  },
  {
   "cell_type": "code",
   "execution_count": 17,
   "id": "caab7b07-6ab5-4372-8b76-8f1bed8af291",
   "metadata": {},
   "outputs": [],
   "source": [
    "def OddEven(num):\n",
    "    if(num%2==1):\n",
    "        print(num, \"is Odd number\")\n",
    "    else:\n",
    "        print(num, \"is Even number\")"
   ]
  },
  {
   "cell_type": "code",
   "execution_count": 21,
   "id": "6c966c22-4abc-47c6-b420-3c5b1356241c",
   "metadata": {},
   "outputs": [
    {
     "name": "stdin",
     "output_type": "stream",
     "text": [
      "Enter a number: 45668\n"
     ]
    },
    {
     "name": "stdout",
     "output_type": "stream",
     "text": [
      "45668 is Even number\n"
     ]
    }
   ],
   "source": [
    "Num = int(input(\"Enter a number:\"))\n",
    "OddEven(Num)"
   ]
  },
  {
   "cell_type": "code",
   "execution_count": 36,
   "id": "83366455-8123-4ef5-ac1c-8c298e8d2237",
   "metadata": {},
   "outputs": [],
   "source": [
    "def Elegible(Gender,age):\n",
    "    if((Gender ==\"Male\")&(age>=21)):\n",
    "        print(\"ELIGIBLE\")\n",
    "    elif((Gender ==\"Female\")&(age>=18)):\n",
    "        print(\"ELIGIBLE\")\n",
    "    else:\n",
    "        print(\"NOT ELIGIBLE\")\n",
    "        "
   ]
  },
  {
   "cell_type": "code",
   "execution_count": 37,
   "id": "d28d78db-aacb-4ecd-870c-cb98889bac78",
   "metadata": {},
   "outputs": [
    {
     "name": "stdin",
     "output_type": "stream",
     "text": [
      "Enter the gender: Male\n",
      "Enter the age: 20\n"
     ]
    },
    {
     "name": "stdout",
     "output_type": "stream",
     "text": [
      "NOT ELIGIBLE\n"
     ]
    }
   ],
   "source": [
    "gender = input(\"Enter the gender:\")\n",
    "Age = int(input(\"Enter the age:\"))\n",
    "Elegible(gender,Age)"
   ]
  },
  {
   "cell_type": "code",
   "execution_count": 38,
   "id": "8d9d089e-ee00-4077-af2c-21d2e30a0410",
   "metadata": {},
   "outputs": [],
   "source": [
    "def percentage(s1,s2,s3,s4,s5):\n",
    "    Total= s1+s2+s3+s4+s5\n",
    "    print(\"Total :\",Total)\n",
    "    Per = Total/5;\n",
    "    print(\"Percentage :\", Per)"
   ]
  },
  {
   "cell_type": "code",
   "execution_count": 39,
   "id": "c467fbeb-8d05-4083-b443-17b74d633d9d",
   "metadata": {},
   "outputs": [
    {
     "name": "stdin",
     "output_type": "stream",
     "text": [
      "Subject1 = 98\n",
      "Subject2 = 99\n",
      "Subject3 = 90\n",
      "Subject4 = 96\n",
      "Subject5 = 97\n"
     ]
    },
    {
     "name": "stdout",
     "output_type": "stream",
     "text": [
      "Total : 480\n",
      "Percentage : 96.0\n"
     ]
    }
   ],
   "source": [
    "SUB1 = int(input(\"Subject1 =\"))\n",
    "SUB2 = int(input(\"Subject2 =\"))\n",
    "SUB3 = int(input(\"Subject3 =\"))\n",
    "SUB4 = int(input(\"Subject4 =\"))\n",
    "SUB5 = int(input(\"Subject5 =\"))\n",
    "percentage(SUB1,SUB2,SUB3,SUB4,SUB5)\n"
   ]
  },
  {
   "cell_type": "code",
   "execution_count": 48,
   "id": "e5ce479e-95df-486a-95be-a50892fda8e7",
   "metadata": {},
   "outputs": [],
   "source": [
    "def triangle():\n",
    "    Height= int(input(\"Height:\"))\n",
    "    Breadth= int(input(\"Breadth:\"))\n",
    "    Area = (Height*Breadth)/2\n",
    "    print(\"Area formula: (Height*Breadth)/2\")\n",
    "    print(\"Area of Triangle:\",Area)\n",
    "    Height1= int(input(\"Height1:\"))\n",
    "    Height2= int(input(\"Height2:\"))\n",
    "    Breadth1= int(input(\"Breadth1:\"))\n",
    "    Perimeter_formula = Height1+Height2+Breadth1\n",
    "    print(\"Perimeter formula: Height1+Height2+Breadth1\")\n",
    "    print(\"Perimeter of Triangle:\",Perimeter_formula)    "
   ]
  },
  {
   "cell_type": "raw",
   "id": "b759342f-bcf8-4822-aa5d-fc4a4775675a",
   "metadata": {},
   "source": [
    "triangle()"
   ]
  },
  {
   "cell_type": "code",
   "execution_count": null,
   "id": "887a03c9-62f6-487b-9480-5faec3f2709b",
   "metadata": {},
   "outputs": [],
   "source": []
  }
 ],
 "metadata": {
  "kernelspec": {
   "display_name": "Python 3 (ipykernel)",
   "language": "python",
   "name": "python3"
  },
  "language_info": {
   "codemirror_mode": {
    "name": "ipython",
    "version": 3
   },
   "file_extension": ".py",
   "mimetype": "text/x-python",
   "name": "python",
   "nbconvert_exporter": "python",
   "pygments_lexer": "ipython3",
   "version": "3.12.7"
  }
 },
 "nbformat": 4,
 "nbformat_minor": 5
}
