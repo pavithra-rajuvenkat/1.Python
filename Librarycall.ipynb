{
 "cells": [
  {
   "cell_type": "code",
   "execution_count": 5,
   "id": "5b7b62cf-3da3-4f64-878d-f599e99f0a16",
   "metadata": {},
   "outputs": [],
   "source": [
    "from Combine_Functions import FiveFunctions"
   ]
  },
  {
   "cell_type": "code",
   "execution_count": 6,
   "id": "7b1ef893-3a1d-4b68-9145-1c76a5190410",
   "metadata": {},
   "outputs": [
    {
     "name": "stdout",
     "output_type": "stream",
     "text": [
      "Sub-fields in AI are:\n",
      "Machine Learning\n",
      "Neural Networks\n",
      "Vision\n",
      "Robotics\n",
      "Speech Processing\n",
      "Natural Language Processing\n"
     ]
    }
   ],
   "source": [
    "FiveFunctions.Subfields()"
   ]
  },
  {
   "cell_type": "code",
   "execution_count": 7,
   "id": "803a2cf3-aad2-443c-8e98-46425c71a768",
   "metadata": {},
   "outputs": [
    {
     "name": "stdin",
     "output_type": "stream",
     "text": [
      "Enter a number: 324567\n"
     ]
    },
    {
     "name": "stdout",
     "output_type": "stream",
     "text": [
      "324567 is Odd number\n"
     ]
    }
   ],
   "source": [
    "FiveFunctions.OddEven()"
   ]
  },
  {
   "cell_type": "code",
   "execution_count": 8,
   "id": "5a55f09e-0104-4c75-b4ee-0f8a69009e42",
   "metadata": {},
   "outputs": [
    {
     "name": "stdin",
     "output_type": "stream",
     "text": [
      "Enter the gender: Female\n",
      "Enter the age: 17\n"
     ]
    },
    {
     "name": "stdout",
     "output_type": "stream",
     "text": [
      "NOT ELIGIBLE\n"
     ]
    }
   ],
   "source": [
    "FiveFunctions.Elegible()"
   ]
  },
  {
   "cell_type": "code",
   "execution_count": 9,
   "id": "6caabb8f-6f44-46e5-b35e-b3d4e2e5d326",
   "metadata": {},
   "outputs": [
    {
     "name": "stdin",
     "output_type": "stream",
     "text": [
      "Subject1 = 87\n",
      "Subject2 = 76\n",
      "Subject3 = 83\n",
      "Subject4 = 82\n",
      "Subject5 = 91\n"
     ]
    },
    {
     "name": "stdout",
     "output_type": "stream",
     "text": [
      "Total : 419\n",
      "Percentage : 83.8\n"
     ]
    }
   ],
   "source": [
    "FiveFunctions.percentage()"
   ]
  },
  {
   "cell_type": "code",
   "execution_count": 10,
   "id": "40651fb3-0114-4e16-9a04-cb24f6a8677b",
   "metadata": {},
   "outputs": [
    {
     "name": "stdin",
     "output_type": "stream",
     "text": [
      "Height: 32\n",
      "Breadth: 34\n"
     ]
    },
    {
     "name": "stdout",
     "output_type": "stream",
     "text": [
      "Area formula: (Height*Breadth)/2\n",
      "Area of Triangle: 544.0\n"
     ]
    },
    {
     "name": "stdin",
     "output_type": "stream",
     "text": [
      "Height1: 2\n",
      "Height2: 4\n",
      "Breadth1: 4\n"
     ]
    },
    {
     "name": "stdout",
     "output_type": "stream",
     "text": [
      "Perimeter formula: Height1+Height2+Breadth1\n",
      "Perimeter of Triangle: 10\n"
     ]
    }
   ],
   "source": [
    "FiveFunctions.triangle()"
   ]
  },
  {
   "cell_type": "code",
   "execution_count": null,
   "id": "7824634c-6460-4261-873e-62589f492c2d",
   "metadata": {},
   "outputs": [],
   "source": []
  }
 ],
 "metadata": {
  "kernelspec": {
   "display_name": "Python 3 (ipykernel)",
   "language": "python",
   "name": "python3"
  },
  "language_info": {
   "codemirror_mode": {
    "name": "ipython",
    "version": 3
   },
   "file_extension": ".py",
   "mimetype": "text/x-python",
   "name": "python",
   "nbconvert_exporter": "python",
   "pygments_lexer": "ipython3",
   "version": "3.12.7"
  }
 },
 "nbformat": 4,
 "nbformat_minor": 5
}
