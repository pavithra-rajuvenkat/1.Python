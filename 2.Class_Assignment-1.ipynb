{
 "cells": [
  {
   "cell_type": "code",
   "execution_count": 2,
   "id": "ed4bc5a9-2d92-46cd-a124-2dc6e9489e4a",
   "metadata": {},
   "outputs": [],
   "source": [
    "class SubfieldsInAI():\n",
    "    def Subfields():\n",
    "        print(\"Sub-fields in AI are:\")\n",
    "        print(\"Machine Learning\\nNeural Networks\\nVision\\nRobotics\\nSpeech Processing\\nNatural Language Processing\")"
   ]
  },
  {
   "cell_type": "code",
   "execution_count": 3,
   "id": "66b864d3-6fcb-4d45-9ad9-3d6c271e813b",
   "metadata": {},
   "outputs": [
    {
     "name": "stdout",
     "output_type": "stream",
     "text": [
      "Sub-fields in AI are:\n",
      "Machine Learning\n",
      "Neural Networks\n",
      "Vision\n",
      "Robotics\n",
      "Speech Processing\n",
      "Natural Language Processing\n"
     ]
    }
   ],
   "source": [
    "SubfieldsInAI.Subfields()"
   ]
  },
  {
   "cell_type": "code",
   "execution_count": 8,
   "id": "caab7b07-6ab5-4372-8b76-8f1bed8af291",
   "metadata": {},
   "outputs": [],
   "source": [
    "class oddeven():\n",
    "    def OddEven():\n",
    "        num = int(input(\"Enter a number:\"))\n",
    "        if(num%2==1):\n",
    "            print(num, \"is Odd number\")\n",
    "        else:\n",
    "            print(num, \"is Even number\")"
   ]
  },
  {
   "cell_type": "code",
   "execution_count": 9,
   "id": "6c966c22-4abc-47c6-b420-3c5b1356241c",
   "metadata": {},
   "outputs": [
    {
     "name": "stdin",
     "output_type": "stream",
     "text": [
      "Enter a number: 52452\n"
     ]
    },
    {
     "name": "stdout",
     "output_type": "stream",
     "text": [
      "52452 is Even number\n"
     ]
    }
   ],
   "source": [
    "oddeven.OddEven()"
   ]
  },
  {
   "cell_type": "code",
   "execution_count": 10,
   "id": "83366455-8123-4ef5-ac1c-8c298e8d2237",
   "metadata": {},
   "outputs": [],
   "source": [
    "class ElegibilityForMarriage():\n",
    "    def Elegible():\n",
    "        Gender = input(\"Enter the gender:\")\n",
    "        age = int(input(\"Enter the age:\"))\n",
    "        if((Gender ==\"Male\")&(age>=21)):\n",
    "            print(\"ELIGIBLE\")\n",
    "        elif((Gender ==\"Female\")&(age>=18)):\n",
    "            print(\"ELIGIBLE\")\n",
    "        else:\n",
    "            print(\"NOT ELIGIBLE\")\n",
    "            "
   ]
  },
  {
   "cell_type": "code",
   "execution_count": 11,
   "id": "d28d78db-aacb-4ecd-870c-cb98889bac78",
   "metadata": {},
   "outputs": [
    {
     "name": "stdin",
     "output_type": "stream",
     "text": [
      "Enter the gender: Male\n",
      "Enter the age: 24\n"
     ]
    },
    {
     "name": "stdout",
     "output_type": "stream",
     "text": [
      "ELIGIBLE\n"
     ]
    }
   ],
   "source": [
    "ElegibilityForMarriage.Elegible()"
   ]
  },
  {
   "cell_type": "code",
   "execution_count": 13,
   "id": "8d9d089e-ee00-4077-af2c-21d2e30a0410",
   "metadata": {},
   "outputs": [],
   "source": [
    "class FindPercent():\n",
    "    def percentage(): \n",
    "        SUB1 = int(input(\"Subject1 =\"))\n",
    "        SUB2 = int(input(\"Subject2 =\"))\n",
    "        SUB3 = int(input(\"Subject3 =\"))\n",
    "        SUB4 = int(input(\"Subject4 =\"))\n",
    "        SUB5 = int(input(\"Subject5 =\"))\n",
    "        Total= SUB1+SUB2+SUB3+SUB4+SUB5\n",
    "        print(\"Total :\",Total)\n",
    "        Per = Total/5;\n",
    "        print(\"Percentage :\", Per)"
   ]
  },
  {
   "cell_type": "code",
   "execution_count": 14,
   "id": "c467fbeb-8d05-4083-b443-17b74d633d9d",
   "metadata": {},
   "outputs": [
    {
     "name": "stdin",
     "output_type": "stream",
     "text": [
      "Subject1 = 78\n",
      "Subject2 = 87\n",
      "Subject3 = 96\n",
      "Subject4 = 82\n",
      "Subject5 = 93\n"
     ]
    },
    {
     "name": "stdout",
     "output_type": "stream",
     "text": [
      "Total : 436\n",
      "Percentage : 87.2\n"
     ]
    }
   ],
   "source": [
    "FindPercent.percentage()\n"
   ]
  },
  {
   "cell_type": "code",
   "execution_count": 18,
   "id": "887a03c9-62f6-487b-9480-5faec3f2709b",
   "metadata": {},
   "outputs": [],
   "source": [
    "class triangle():\n",
    "    def triangle():\n",
    "        Height= int(input(\"Height:\"))\n",
    "        Breadth= int(input(\"Breadth:\"))\n",
    "        Area = (Height*Breadth)/2\n",
    "        print(\"Area formula: (Height*Breadth)/2\")\n",
    "        print(\"Area of Triangle:\",Area)\n",
    "        Height1= int(input(\"Height1:\"))\n",
    "        Height2= int(input(\"Height2:\"))\n",
    "        Breadth1= int(input(\"Breadth1:\"))\n",
    "        Perimeter_formula = Height1+Height2+Breadth1\n",
    "        print(\"Perimeter formula: Height1+Height2+Breadth1\")\n",
    "        print(\"Perimeter of Triangle:\",Perimeter_formula)    "
   ]
  },
  {
   "cell_type": "code",
   "execution_count": 19,
   "id": "f689f80b-ee2b-41ae-9d06-beabc774745a",
   "metadata": {},
   "outputs": [
    {
     "name": "stdin",
     "output_type": "stream",
     "text": [
      "Height: 32\n",
      "Breadth: 34\n"
     ]
    },
    {
     "name": "stdout",
     "output_type": "stream",
     "text": [
      "Area formula: (Height*Breadth)/2\n",
      "Area of Triangle: 544.0\n"
     ]
    },
    {
     "name": "stdin",
     "output_type": "stream",
     "text": [
      "Height1: 2\n",
      "Height2: 4\n",
      "Breadth1: 4\n"
     ]
    },
    {
     "name": "stdout",
     "output_type": "stream",
     "text": [
      "Perimeter formula: Height1+Height2+Breadth1\n",
      "Perimeter of Triangle: 10\n"
     ]
    }
   ],
   "source": [
    "triangle.triangle()"
   ]
  },
  {
   "cell_type": "code",
   "execution_count": null,
   "id": "a5f253bf-f81b-46ec-9d76-541f34b16499",
   "metadata": {},
   "outputs": [],
   "source": []
  }
 ],
 "metadata": {
  "kernelspec": {
   "display_name": "Python 3 (ipykernel)",
   "language": "python",
   "name": "python3"
  },
  "language_info": {
   "codemirror_mode": {
    "name": "ipython",
    "version": 3
   },
   "file_extension": ".py",
   "mimetype": "text/x-python",
   "name": "python",
   "nbconvert_exporter": "python",
   "pygments_lexer": "ipython3",
   "version": "3.12.7"
  }
 },
 "nbformat": 4,
 "nbformat_minor": 5
}
